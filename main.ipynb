{
 "metadata": {
  "language_info": {
   "codemirror_mode": {
    "name": "ipython",
    "version": 3
   },
   "file_extension": ".py",
   "mimetype": "text/x-python",
   "name": "python",
   "nbconvert_exporter": "python",
   "pygments_lexer": "ipython3",
   "version": "3.9.5"
  },
  "orig_nbformat": 4,
  "kernelspec": {
   "name": "python3",
   "display_name": "Python 3.9.5 64-bit"
  },
  "interpreter": {
   "hash": "b5b2412f985a5069780fd20239370de99635535158b338408a58cfbfc0256816"
  }
 },
 "nbformat": 4,
 "nbformat_minor": 2,
 "cells": [
  {
   "cell_type": "code",
   "execution_count": 1,
   "metadata": {},
   "outputs": [
    {
     "output_type": "execute_result",
     "data": {
      "text/plain": [
       "'from resim_cogaltma import ResimCogaltma()\\nfrom filtre import FiltreUygula\\nfrom veriseti import VerisetiOlustur\\n\\nResimCogaltma()\\nFiltreUygula()\\nVerisetiOlustur()'"
      ]
     },
     "metadata": {},
     "execution_count": 1
    }
   ],
   "source": [
    "\"\"\"from resim_cogaltma import ResimCogaltma()\n",
    "from filtre import FiltreUygula\n",
    "from veriseti import VerisetiOlustur\n",
    "\n",
    "ResimCogaltma()\n",
    "FiltreUygula()\n",
    "VerisetiOlustur()\"\"\""
   ]
  },
  {
   "cell_type": "code",
   "execution_count": 22,
   "source": [
    "import tensorflow as tf,os,consts\n",
    "from tensorflow import keras\n",
    "from tensorflow.keras import layers\n",
    "\n",
    "num_skipped = 0\n",
    "for folder_name in os.listdir(consts.veriseti_yolu):\n",
    "    folder_path = os.path.join(consts.veriseti_yolu, folder_name)\n",
    "    for fname in os.listdir(folder_path):\n",
    "        fpath = os.path.join(folder_path, fname)\n",
    "        for file in os.listdir(fpath):\n",
    "            resim=os.path.join(fpath,file)\n",
    "            try:\n",
    "                fobj = open(resim, \"rb\")\n",
    "                is_png = tf.compat.as_bytes(\"PNG\") in fobj.peek(10)\n",
    "            finally:\n",
    "                fobj.close()\n",
    "            if not is_png:\n",
    "                num_skipped += 1\n",
    "                os.remove(resim) \n",
    "print(\"PNG Olmayan %d Resim Silindi\" % num_skipped)"
   ],
   "outputs": [
    {
     "output_type": "stream",
     "name": "stdout",
     "text": [
      "PNG Olmayan 0 Resim Silindi\n"
     ]
    }
   ],
   "metadata": {}
  },
  {
   "cell_type": "code",
   "execution_count": 23,
   "source": [
    "image_size = (180, 180)\n",
    "batch_size = 32\n",
    "train_ds = tf.keras.preprocessing.image_dataset_from_directory(\n",
    "    consts.egitim_yolu,\n",
    "    validation_split=0.2,\n",
    "    subset=\"training\",\n",
    "    seed=1337,\n",
    "    image_size=image_size,\n",
    "    batch_size=batch_size\n",
    ")\n",
    "val_ds=tf.keras.preprocessing.image_dataset_from_directory(\n",
    "    consts.validation_yolu,\n",
    "    validation_split=0.2,\n",
    "    subset=\"validation\",\n",
    "    seed=1337,\n",
    "    image_size=image_size,\n",
    "    batch_size=batch_size\n",
    ")"
   ],
   "outputs": [
    {
     "output_type": "stream",
     "name": "stdout",
     "text": [
      "Found 3664 files belonging to 2 classes.\n",
      "Using 2932 files for training.\n",
      "Found 1205 files belonging to 2 classes.\n",
      "Using 241 files for validation.\n"
     ]
    }
   ],
   "metadata": {}
  },
  {
   "cell_type": "code",
   "execution_count": 24,
   "source": [
    "\n",
    "import matplotlib.pyplot as plt\n",
    "data_augmentation = keras.Sequential(\n",
    "    [\n",
    "        layers.experimental.preprocessing.RandomFlip(\"horizontal\"),\n",
    "        layers.experimental.preprocessing.RandomRotation(0.1),\n",
    "    ]\n",
    ")"
   ],
   "outputs": [],
   "metadata": {}
  },
  {
   "cell_type": "code",
   "execution_count": 25,
   "source": [
    "inputs = keras.Input(shape=(180,180,3))\n",
    "x = data_augmentation(inputs)\n",
    "x = layers.experimental.preprocessing.Rescaling(1./255)(x)\n",
    "\n",
    "augmented_train_ds = train_ds.map(\n",
    "  lambda x, y: (data_augmentation(x, training=True), y))\n",
    "\n",
    "train_ds = train_ds.prefetch(buffer_size=32)\n",
    "val_ds = val_ds.prefetch(buffer_size=32)"
   ],
   "outputs": [],
   "metadata": {}
  },
  {
   "cell_type": "code",
   "execution_count": 26,
   "source": [
    "\n",
    "def make_model(input_shape, num_classes):\n",
    "    inputs = keras.Input(shape=input_shape)\n",
    "    # Image augmentation block\n",
    "    x = data_augmentation(inputs)\n",
    "\n",
    "    # Entry block\n",
    "    x = layers.experimental.preprocessing.Rescaling(1.0 / 255)(x)\n",
    "    x = layers.Conv2D(32, 3, strides=2, padding=\"same\")(x)\n",
    "    x = layers.BatchNormalization()(x)\n",
    "    x = layers.Activation(\"relu\")(x)\n",
    "\n",
    "    x = layers.Conv2D(64, 3, padding=\"same\")(x)\n",
    "    x = layers.BatchNormalization()(x)\n",
    "    x = layers.Activation(\"relu\")(x)\n",
    "\n",
    "    previous_block_activation = x  # Set aside residual\n",
    "\n",
    "    for size in [128, 256, 512, 728]:\n",
    "        x = layers.Activation(\"relu\")(x)\n",
    "        x = layers.SeparableConv2D(size, 3, padding=\"same\")(x)\n",
    "        x = layers.BatchNormalization()(x)\n",
    "\n",
    "        x = layers.Activation(\"relu\")(x)\n",
    "        x = layers.SeparableConv2D(size, 3, padding=\"same\")(x)\n",
    "        x = layers.BatchNormalization()(x)\n",
    "\n",
    "        x = layers.MaxPooling2D(3, strides=2, padding=\"same\")(x)\n",
    "\n",
    "        # Project residual\n",
    "        residual = layers.Conv2D(size, 1, strides=2, padding=\"same\")(\n",
    "            previous_block_activation\n",
    "        )\n",
    "        x = layers.add([x, residual])  # Add back residual\n",
    "        previous_block_activation = x  # Set aside next residual\n",
    "\n",
    "    x = layers.SeparableConv2D(1024, 3, padding=\"same\")(x)\n",
    "    x = layers.BatchNormalization()(x)\n",
    "    x = layers.Activation(\"relu\")(x)\n",
    "\n",
    "    x = layers.GlobalAveragePooling2D()(x)\n",
    "    if num_classes == 2:\n",
    "        activation = \"sigmoid\"\n",
    "        units = 1\n",
    "    else:\n",
    "        activation = \"softmax\"\n",
    "        units = num_classes\n",
    "\n",
    "    x = layers.Dropout(0.5)(x)\n",
    "    outputs = layers.Dense(units, activation=activation)(x)\n",
    "    return keras.Model(inputs, outputs)"
   ],
   "outputs": [],
   "metadata": {}
  },
  {
   "cell_type": "code",
   "execution_count": 27,
   "source": [
    "model = make_model(input_shape=image_size + (3,), num_classes=2)\n",
    "keras.utils.plot_model(model, show_shapes=True)\n",
    "\n",
    "epochs = 50\n",
    "\n",
    "callbacks = [\n",
    "    keras.callbacks.ModelCheckpoint(\"save_at_{epoch}.h5\"),\n",
    "]\n",
    "model.compile(\n",
    "    optimizer=keras.optimizers.Adam(1e-3),\n",
    "    loss=\"binary_crossentropy\",\n",
    "    metrics=[\"accuracy\"],\n",
    ")\n",
    "model.fit(\n",
    "    train_ds, epochs=epochs, callbacks=callbacks, validation_data=val_ds,\n",
    ")"
   ],
   "outputs": [
    {
     "output_type": "stream",
     "name": "stdout",
     "text": [
      "('You must install pydot (`pip install pydot`) and install graphviz (see instructions at https://graphviz.gitlab.io/download/) ', 'for plot_model/model_to_dot to work.')\n",
      "Epoch 1/50\n",
      "92/92 [==============================] - 273s 3s/step - loss: 0.1498 - accuracy: 0.9451 - val_loss: 0.6929 - val_accuracy: 0.5145\n",
      "Epoch 2/50C:\\Users\\Cuhadar\\AppData\\Roaming\\Python\\Python39\\site-packages\\tensorflow\\python\\keras\\utils\\generic_utils.py:494: CustomMaskWarning: Custom mask layers require a config and must override get_config. When loading, the custom mask layer must be passed to the custom_objects argument.\n",
      "  warnings.warn('Custom mask layers require a config and must override '\n",
      "\n",
      "92/92 [==============================] - 261s 3s/step - loss: 0.0719 - accuracy: 0.9737 - val_loss: 0.7029 - val_accuracy: 0.5145\n",
      "Epoch 3/50\n",
      "92/92 [==============================] - 261s 3s/step - loss: 0.0522 - accuracy: 0.9809 - val_loss: 0.7766 - val_accuracy: 0.5145\n",
      "Epoch 4/50\n",
      "92/92 [==============================] - 266s 3s/step - loss: 0.0298 - accuracy: 0.9887 - val_loss: 0.8195 - val_accuracy: 0.5145\n",
      "Epoch 5/50\n",
      "92/92 [==============================] - 261s 3s/step - loss: 0.0317 - accuracy: 0.9884 - val_loss: 0.3206 - val_accuracy: 0.8755\n",
      "Epoch 6/50\n",
      "92/92 [==============================] - 269s 3s/step - loss: 0.0260 - accuracy: 0.9908 - val_loss: 0.2658 - val_accuracy: 0.8921\n",
      "Epoch 7/50\n",
      "92/92 [==============================] - 255s 3s/step - loss: 0.0280 - accuracy: 0.9911 - val_loss: 0.0826 - val_accuracy: 0.9710\n",
      "Epoch 8/50\n",
      "92/92 [==============================] - 255s 3s/step - loss: 0.0226 - accuracy: 0.9922 - val_loss: 0.0768 - val_accuracy: 0.9751\n",
      "Epoch 9/50\n",
      "92/92 [==============================] - 260s 3s/step - loss: 0.0216 - accuracy: 0.9939 - val_loss: 0.1206 - val_accuracy: 0.9751\n",
      "Epoch 10/50\n",
      "92/92 [==============================] - 254s 3s/step - loss: 0.0185 - accuracy: 0.9942 - val_loss: 0.0183 - val_accuracy: 0.9959\n",
      "Epoch 11/50\n",
      "92/92 [==============================] - 255s 3s/step - loss: 0.0151 - accuracy: 0.9939 - val_loss: 1.0773 - val_accuracy: 0.7884\n",
      "Epoch 12/50\n",
      "92/92 [==============================] - 255s 3s/step - loss: 0.0221 - accuracy: 0.9928 - val_loss: 0.0787 - val_accuracy: 0.9793\n",
      "Epoch 13/50\n",
      "92/92 [==============================] - 258s 3s/step - loss: 0.0140 - accuracy: 0.9945 - val_loss: 0.0193 - val_accuracy: 0.9959\n",
      "Epoch 14/50\n",
      "92/92 [==============================] - 260s 3s/step - loss: 0.0221 - accuracy: 0.9928 - val_loss: 0.0738 - val_accuracy: 0.9917\n",
      "Epoch 15/50\n",
      "92/92 [==============================] - 262s 3s/step - loss: 0.0090 - accuracy: 0.9956 - val_loss: 0.9014 - val_accuracy: 0.7718\n",
      "Epoch 16/50\n",
      "92/92 [==============================] - 261s 3s/step - loss: 0.0050 - accuracy: 0.9983 - val_loss: 0.0270 - val_accuracy: 0.9917\n",
      "Epoch 17/50\n",
      "92/92 [==============================] - 261s 3s/step - loss: 0.0107 - accuracy: 0.9973 - val_loss: 0.0091 - val_accuracy: 0.9959\n",
      "Epoch 18/50\n",
      "92/92 [==============================] - 261s 3s/step - loss: 0.0183 - accuracy: 0.9932 - val_loss: 0.1030 - val_accuracy: 0.9627\n",
      "Epoch 19/50\n",
      "92/92 [==============================] - 260s 3s/step - loss: 0.0118 - accuracy: 0.9962 - val_loss: 0.0057 - val_accuracy: 1.0000\n",
      "Epoch 20/50\n",
      "92/92 [==============================] - 260s 3s/step - loss: 0.0120 - accuracy: 0.9973 - val_loss: 0.0300 - val_accuracy: 0.9959\n",
      "Epoch 21/50\n",
      "92/92 [==============================] - 260s 3s/step - loss: 0.0139 - accuracy: 0.9952 - val_loss: 1.1605 - val_accuracy: 0.6556\n",
      "Epoch 22/50\n",
      "92/92 [==============================] - 262s 3s/step - loss: 0.0111 - accuracy: 0.9959 - val_loss: 4.9631 - val_accuracy: 0.5768\n",
      "Epoch 23/50\n",
      "92/92 [==============================] - 261s 3s/step - loss: 0.0130 - accuracy: 0.9949 - val_loss: 9.1249 - val_accuracy: 0.5477\n",
      "Epoch 24/50\n",
      "92/92 [==============================] - 260s 3s/step - loss: 0.0090 - accuracy: 0.9976 - val_loss: 0.0514 - val_accuracy: 0.9751\n",
      "Epoch 25/50\n",
      "92/92 [==============================] - 260s 3s/step - loss: 0.0020 - accuracy: 0.9990 - val_loss: 0.0058 - val_accuracy: 1.0000\n",
      "Epoch 26/50\n",
      "92/92 [==============================] - 265s 3s/step - loss: 0.0070 - accuracy: 0.9983 - val_loss: 0.0015 - val_accuracy: 1.0000\n",
      "Epoch 27/50\n",
      "92/92 [==============================] - 267s 3s/step - loss: 0.0054 - accuracy: 0.9986 - val_loss: 0.0435 - val_accuracy: 0.9876\n",
      "Epoch 28/50\n",
      "92/92 [==============================] - 271s 3s/step - loss: 0.0051 - accuracy: 0.9976 - val_loss: 0.1463 - val_accuracy: 0.9336\n",
      "Epoch 29/50\n",
      "92/92 [==============================] - 267s 3s/step - loss: 0.0025 - accuracy: 0.9993 - val_loss: 4.4353e-04 - val_accuracy: 1.0000\n",
      "Epoch 30/50\n",
      "92/92 [==============================] - 261s 3s/step - loss: 5.2304e-04 - accuracy: 1.0000 - val_loss: 1.1052e-04 - val_accuracy: 1.0000\n",
      "Epoch 31/50\n",
      "92/92 [==============================] - 263s 3s/step - loss: 0.0061 - accuracy: 0.9990 - val_loss: 0.0400 - val_accuracy: 0.9876\n",
      "Epoch 32/50\n",
      "92/92 [==============================] - 260s 3s/step - loss: 0.0278 - accuracy: 0.9911 - val_loss: 14.0612 - val_accuracy: 0.5187\n",
      "Epoch 33/50\n",
      "92/92 [==============================] - 257s 3s/step - loss: 0.0377 - accuracy: 0.9901 - val_loss: 0.0879 - val_accuracy: 0.9627\n",
      "Epoch 34/50\n",
      "92/92 [==============================] - 258s 3s/step - loss: 0.0118 - accuracy: 0.9969 - val_loss: 0.1013 - val_accuracy: 0.9544\n",
      "Epoch 35/50\n",
      "92/92 [==============================] - 256s 3s/step - loss: 0.0082 - accuracy: 0.9962 - val_loss: 0.0073 - val_accuracy: 0.9959\n",
      "Epoch 36/50\n",
      "92/92 [==============================] - 255s 3s/step - loss: 0.0030 - accuracy: 0.9990 - val_loss: 0.0135 - val_accuracy: 0.9959\n",
      "Epoch 37/50\n",
      "92/92 [==============================] - 258s 3s/step - loss: 0.0035 - accuracy: 0.9983 - val_loss: 1.7056e-05 - val_accuracy: 1.0000\n",
      "Epoch 38/50\n",
      "92/92 [==============================] - 260s 3s/step - loss: 0.0207 - accuracy: 0.9922 - val_loss: 0.2011 - val_accuracy: 0.9419\n",
      "Epoch 39/50\n",
      "92/92 [==============================] - 261s 3s/step - loss: 0.0030 - accuracy: 0.9993 - val_loss: 0.0233 - val_accuracy: 0.9917\n",
      "Epoch 40/50\n",
      "92/92 [==============================] - 260s 3s/step - loss: 0.0220 - accuracy: 0.9939 - val_loss: 0.1269 - val_accuracy: 0.9544\n",
      "Epoch 41/50\n",
      "92/92 [==============================] - 260s 3s/step - loss: 0.0145 - accuracy: 0.9949 - val_loss: 0.8628 - val_accuracy: 0.7510\n",
      "Epoch 42/50\n",
      "92/92 [==============================] - 260s 3s/step - loss: 0.0084 - accuracy: 0.9976 - val_loss: 0.0288 - val_accuracy: 0.9876\n",
      "Epoch 43/50\n",
      "92/92 [==============================] - 260s 3s/step - loss: 0.0080 - accuracy: 0.9966 - val_loss: 0.2116 - val_accuracy: 0.9627\n",
      "Epoch 44/50\n",
      "92/92 [==============================] - 258s 3s/step - loss: 0.0045 - accuracy: 0.9986 - val_loss: 0.0084 - val_accuracy: 1.0000\n",
      "Epoch 45/50\n",
      "92/92 [==============================] - 258s 3s/step - loss: 0.0123 - accuracy: 0.9949 - val_loss: 0.0049 - val_accuracy: 1.0000\n",
      "Epoch 46/50\n",
      "92/92 [==============================] - 259s 3s/step - loss: 0.0043 - accuracy: 0.9986 - val_loss: 5.9389e-04 - val_accuracy: 1.0000\n",
      "Epoch 47/50\n",
      "92/92 [==============================] - 262s 3s/step - loss: 0.0040 - accuracy: 0.9986 - val_loss: 0.0032 - val_accuracy: 0.9959\n",
      "Epoch 48/50\n",
      "92/92 [==============================] - 261s 3s/step - loss: 0.0022 - accuracy: 0.9993 - val_loss: 4.3423e-04 - val_accuracy: 1.0000\n",
      "Epoch 49/50\n",
      "92/92 [==============================] - 264s 3s/step - loss: 0.0021 - accuracy: 0.9990 - val_loss: 1.2683e-05 - val_accuracy: 1.0000\n",
      "Epoch 50/50\n",
      "92/92 [==============================] - 262s 3s/step - loss: 3.0965e-04 - accuracy: 1.0000 - val_loss: 2.7711e-05 - val_accuracy: 1.0000\n"
     ]
    },
    {
     "output_type": "execute_result",
     "data": {
      "text/plain": [
       "<tensorflow.python.keras.callbacks.History at 0x1c28c47c2b0>"
      ]
     },
     "metadata": {},
     "execution_count": 27
    }
   ],
   "metadata": {}
  },
  {
   "cell_type": "code",
   "execution_count": 39,
   "source": [
    "import os\n",
    "for resim in os.listdir(consts.test_yolu):\n",
    "    img = keras.preprocessing.image.load_img(os.path.join(consts.test_yolu,resim), target_size=image_size)\n",
    "    img_array = keras.preprocessing.image.img_to_array(img)\n",
    "    img_array = tf.expand_dims(img_array, 0)  # Create batch axis\n",
    "    predictions = model.predict(img_array)\n",
    "    score=predictions[0][0]\n",
    "#    print('{0} Resmi %{1} Bisiklettir, %{2} Motordur.'.format(resim, 100 * (1 - score), 100 * score))\n",
    "    print(\"{0} resmi {1}% ihtimalle bisiklet, {2} ihtimalle motordur.\".format(resim, 100-100*score, 100*score))"
   ],
   "outputs": [],
   "metadata": {}
  },
  {
   "cell_type": "code",
   "execution_count": null,
   "source": [],
   "outputs": [],
   "metadata": {}
  }
 ]
}